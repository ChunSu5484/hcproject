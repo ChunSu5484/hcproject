{
 "cells": [
  {
   "cell_type": "code",
   "execution_count": 1,
   "metadata": {},
   "outputs": [],
   "source": [
    "from sklearn.preprocessing import LabelEncoder\n",
    "\n",
    "\n",
    "def cat_encoding(df):\n",
    "    le = LabelEncoder()\n",
    "    original_columns = list(df.columns)\n",
    "    \n",
    "    for col in df:\n",
    "        if df[col].dtype == 'object':\n",
    "            if len(list(df[col].unique())) <= 2:\n",
    "                le.fit(df[col])\n",
    "                df[col] = le.transform(df[col])\n",
    "            elif len(list(df[col].unique())) > 2:            \n",
    "                df = pd.get_dummies(df, columns = [col], dummy_na=False)\n",
    "    \n",
    "    new_columns = [c for c in df.columns if c not in original_columns]\n",
    "                \n",
    "    return df, new_columns"
   ]
  },
  {
   "cell_type": "code",
   "execution_count": null,
   "metadata": {},
   "outputs": [],
   "source": []
  }
 ],
 "metadata": {
  "kernelspec": {
   "display_name": "Python 3",
   "language": "python",
   "name": "python3"
  },
  "language_info": {
   "codemirror_mode": {
    "name": "ipython",
    "version": 3
   },
   "file_extension": ".py",
   "mimetype": "text/x-python",
   "name": "python",
   "nbconvert_exporter": "python",
   "pygments_lexer": "ipython3",
   "version": "3.7.6"
  }
 },
 "nbformat": 4,
 "nbformat_minor": 4
}
